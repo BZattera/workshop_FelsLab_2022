{
 "cells": [
  {
   "cell_type": "markdown",
   "metadata": {},
   "source": [
    "# Introduction to classes"
   ]
  },
  {
   "cell_type": "markdown",
   "metadata": {},
   "source": [
    "Python is an object-oriented programming language. Unlike procedure-oriented programming, where the main emphasis is on functions, object-oriented programming stresses on objects.\n",
    "\n",
    "An object is simply a collection of data (variables) and methods (functions) that act on those data. Similarly, a class is a blueprint for that object.\n",
    "\n",
    "To understand the need for creating a class let’s consider an example, let’s say you wanted to track the number of dogs that may have different attributes like breed, age. If a list is used, the first element could be the dog’s breed while the second element could represent its age. Let’s suppose there are 100 different dogs, then how would you know which element is supposed to be which? What if you wanted to add other properties to these dogs? This lacks organization and it’s the exact need for classes. \n",
    "\n",
    "Class creates a user-defined data structure, which holds its own data members and member functions, which can be accessed and used by creating an instance of that class."
   ]
  },
  {
   "cell_type": "markdown",
   "metadata": {},
   "source": [
    "### Class definition syntax\n",
    "\n",
    "Like function definitions begin with the __def__ keyword in Python, __class__ definitions begin with a class keyword.\n",
    "\n",
    "The first string inside the class is called docstring and has a brief description of the class. Although not mandatory, this is highly recommended.\n",
    "\n",
    "Here is a simple class definition."
   ]
  },
  {
   "cell_type": "code",
   "execution_count": null,
   "metadata": {},
   "outputs": [],
   "source": [
    "\n",
    "class Dog:\n",
    "    '''This is a docstring. I have created a new class'''\n",
    "    pass"
   ]
  },
  {
   "cell_type": "markdown",
   "metadata": {},
   "source": [
    "An Object is an instance of a Class. A class is like a blueprint while an instance is a copy of the class with actual values. It’s not an idea anymore, it’s an actual dog, like a dog of breed pug who’s seven years old. You can have many dogs to create many different instances, but without the class as a guide, you would be lost, not knowing what information is required."
   ]
  },
  {
   "cell_type": "code",
   "execution_count": null,
   "metadata": {},
   "outputs": [],
   "source": [
    "class Dog:\n",
    "     \n",
    "    # A simple class\n",
    "    # attribute\n",
    "    attr1 = \"mammal\"\n",
    "    attr2 = \"dog\"\n",
    " \n",
    "    # A sample method \n",
    "    def fun(self):\n",
    "        print(\"I'm a\", self.attr1)\n",
    "        print(\"I'm a\", self.attr2)\n",
    " \n"
   ]
  },
  {
   "cell_type": "code",
   "execution_count": null,
   "metadata": {},
   "outputs": [],
   "source": [
    "\n",
    "# Object instantiation\n",
    "Rodger = Dog()\n",
    " \n",
    "# Accessing class attributes\n",
    "# and method through objects\n",
    "print(Rodger.attr1)\n",
    "Rodger.fun()"
   ]
  },
  {
   "cell_type": "markdown",
   "metadata": {},
   "source": [
    "#### The self\n",
    "Class methods must have an extra first parameter in the method definition. We do not give a value for this parameter when we call the method, Python provides it.\n",
    "\n",
    "#### The __ Init __\n",
    "\n",
    "It runs as soon as an object of a class is instantiated. The method is useful to do any initialization you want to do with your object."
   ]
  },
  {
   "cell_type": "code",
   "execution_count": null,
   "metadata": {},
   "outputs": [],
   "source": [
    "# A Sample class with init method\n",
    "class Person:\n",
    "   \n",
    "    # init method or constructor \n",
    "    def __init__(self, name):\n",
    "        self.name = name\n",
    "   \n",
    "    # Sample Method \n",
    "    def say_hi(self):\n",
    "        print('Hello, my name is', self.name)\n",
    "   \n",
    "p = Person('Bene')\n",
    "p.say_hi()"
   ]
  },
  {
   "cell_type": "markdown",
   "metadata": {},
   "source": [
    "### Class and Instance Variables\n",
    "\n",
    "Instance variables are for data, unique to each instance and class variables are for attributes and methods shared by all instances of the class. Instance variables are variables whose value is assigned inside a constructor or method with self whereas class variables are variables whose value is assigned in the class.\n",
    "\n",
    "Defining instance variable using a constructor. "
   ]
  },
  {
   "cell_type": "code",
   "execution_count": null,
   "metadata": {},
   "outputs": [],
   "source": [
    "# Class for Dog\n",
    "class Dog:\n",
    "   \n",
    "    # Class Variable\n",
    "    animal = 'dog'            \n",
    "   \n",
    "    # The init method or constructor\n",
    "    def __init__(self, breed, color):\n",
    "     \n",
    "        # Instance Variable    \n",
    "        self.breed = breed\n",
    "        self.color = color       \n",
    "    \n",
    "# Objects of Dog class\n",
    "Rodger = Dog(\"Pug\", \"brown\")\n",
    "Buzo = Dog(\"Bulldog\", \"black\")\n",
    " \n",
    "print('Rodger details:')  \n",
    "print('Rodger is a', Rodger.animal)\n",
    "print('Breed: ', Rodger.breed)\n",
    "print('Color: ', Rodger.color)\n",
    " \n",
    "print('\\nBuzo details:')  \n",
    "print('Buzo is a', Buzo.animal)\n",
    "print('Breed: ', Buzo.breed)\n",
    "print('Color: ', Buzo.color)\n",
    " \n",
    "# Class variables can be accessed using class\n",
    "# name also\n",
    "print(\"\\nAccessing class variable using class name\")\n",
    "print(Dog.animal)    "
   ]
  },
  {
   "cell_type": "code",
   "execution_count": null,
   "metadata": {},
   "outputs": [],
   "source": [
    "#  we can create instance variables inside methods\n",
    "    \n",
    "# Class for Dog\n",
    "class Dog:\n",
    "       \n",
    "    # Class Variable\n",
    "    animal = 'dog'     \n",
    "       \n",
    "    # The init method or constructor\n",
    "    def __init__(self, breed):\n",
    "           \n",
    "        # Instance Variable\n",
    "        self.breed = breed            \n",
    "   \n",
    "    # Adds an instance variable \n",
    "    def setColor(self, color):\n",
    "        self.color = color\n",
    "       \n",
    "    # Retrieves instance variable    \n",
    "    def getColor(self):    \n",
    "        return self.color   \n",
    "   \n",
    "# Driver Code\n",
    "Rodger = Dog(\"pug\")\n",
    "Rodger.setColor(\"brown\")\n",
    "print(Rodger.getColor()) "
   ]
  },
  {
   "cell_type": "markdown",
   "metadata": {},
   "source": [
    "## Inheritance\n",
    "One of the most powerful advantages of using classes is __inheritance__. With inheritance, we can easily define subcategories of a general class, adding new methods and overwriting old ones:"
   ]
  },
  {
   "cell_type": "code",
   "execution_count": null,
   "metadata": {},
   "outputs": [],
   "source": [
    "class Animal():\n",
    "    def __init__(self, age, color=\"pink\"):\n",
    "        self.age=age\n",
    "        self.color = color\n",
    "        \n",
    "    def make_sound(self):\n",
    "        print(\"I don't know what sound to make\")\n",
    "       \n",
    "    \n",
    "class Dog(Animal):\n",
    "    def __init__(self, *args, name=\"Bob\", **kwargs):\n",
    "        print(kwargs)\n",
    "        super().__init__(*args, **kwargs)\n",
    "        self.name = name\n",
    "        \n",
    "    def make_sound(self):\n",
    "        super().make_sound()\n",
    "        print(\"Bau\")"
   ]
  },
  {
   "cell_type": "code",
   "execution_count": null,
   "metadata": {},
   "outputs": [],
   "source": [
    "a_dog = Dog(30, color=\"dark\")\n",
    "print(a_dog.age)\n",
    "a_dog.color"
   ]
  },
  {
   "cell_type": "code",
   "execution_count": null,
   "metadata": {},
   "outputs": [],
   "source": []
  }
 ],
 "metadata": {
  "kernelspec": {
   "display_name": "Python 3",
   "language": "python",
   "name": "python3"
  },
  "language_info": {
   "codemirror_mode": {
    "name": "ipython",
    "version": 3
   },
   "file_extension": ".py",
   "mimetype": "text/x-python",
   "name": "python",
   "nbconvert_exporter": "python",
   "pygments_lexer": "ipython3",
   "version": "3.8.3"
  }
 },
 "nbformat": 4,
 "nbformat_minor": 4
}
