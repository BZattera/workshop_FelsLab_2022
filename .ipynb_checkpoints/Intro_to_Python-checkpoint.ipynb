{
 "cells": [
  {
   "cell_type": "markdown",
   "id": "aaa2181e",
   "metadata": {},
   "source": [
    "### Intro to Python programming"
   ]
  },
  {
   "cell_type": "markdown",
   "id": "12a27440",
   "metadata": {},
   "source": [
    "Let's start with the easiest thing: print a message"
   ]
  },
  {
   "cell_type": "code",
   "execution_count": 1,
   "id": "636abf3b",
   "metadata": {},
   "outputs": [
    {
     "name": "stdout",
     "output_type": "stream",
     "text": [
      "This line will be printed\n",
      "Hello world\n"
     ]
    }
   ],
   "source": [
    "print(\"This line will be printed\")\n",
    "\n",
    "# or, for more conservative people\n",
    "print(\"Hello world\")"
   ]
  },
  {
   "cell_type": "markdown",
   "id": "174539b5",
   "metadata": {},
   "source": [
    "As an exercise, let's print whatever you want:"
   ]
  },
  {
   "cell_type": "code",
   "execution_count": 2,
   "id": "14d17174",
   "metadata": {},
   "outputs": [
    {
     "name": "stdout",
     "output_type": "stream",
     "text": [
      "ciao\n"
     ]
    }
   ],
   "source": [
    "print('ciao')"
   ]
  },
  {
   "cell_type": "markdown",
   "id": "591f897e",
   "metadata": {},
   "source": [
    "### Indentation\n",
    "\n",
    "Python uses indentation for blocks. __Indentation is mandatory in python to define the blocks of statements__. For example:"
   ]
  },
  {
   "cell_type": "code",
   "execution_count": null,
   "id": "ab0f7f8c",
   "metadata": {},
   "outputs": [],
   "source": [
    "x = 1\n",
    "if x ==1:\n",
    "    # indented block\n",
    "    print ('x is 1')"
   ]
  },
  {
   "cell_type": "markdown",
   "id": "2ca7367c",
   "metadata": {},
   "source": [
    "As an exercise, write an if statement that returns \"Good Morning\" if the time of the day is equal to morning"
   ]
  },
  {
   "cell_type": "code",
   "execution_count": 4,
   "id": "8fa381d0",
   "metadata": {},
   "outputs": [],
   "source": [
    "time_of_day = 12\n",
    "\n",
    "if time_of_day <  10:\n",
    "    print('Good Morning')"
   ]
  },
  {
   "cell_type": "markdown",
   "id": "0221e89e",
   "metadata": {},
   "source": [
    "## Variables and Types"
   ]
  },
  {
   "cell_type": "markdown",
   "id": "c7425d78",
   "metadata": {},
   "source": [
    "Python is completely object oriented, and not \"statically typed\". You do not need to declare variables before using them, or declare their type. Every variable in Python is an object."
   ]
  },
  {
   "cell_type": "code",
   "execution_count": 14,
   "id": "3b19b3c2",
   "metadata": {},
   "outputs": [],
   "source": [
    "my_var = 9\n",
    "\n",
    "another_var = 10"
   ]
  },
  {
   "cell_type": "markdown",
   "id": "ca95c01f",
   "metadata": {},
   "source": [
    "### Numbers\n",
    "\n",
    "Python supports two types of numbers:\n",
    "1) __Integers__ : whole numbers\n",
    "\n",
    "2) __Floating points__ : decimals \n",
    "\n",
    "(It also supports complex numbers, which will not be explained in this tutorial)."
   ]
  },
  {
   "cell_type": "markdown",
   "id": "d20a26cf",
   "metadata": {},
   "source": [
    "To define an integer, use the following syntax:"
   ]
  },
  {
   "cell_type": "code",
   "execution_count": 5,
   "id": "6227efdd",
   "metadata": {},
   "outputs": [
    {
     "name": "stdout",
     "output_type": "stream",
     "text": [
      "7\n"
     ]
    },
    {
     "data": {
      "text/plain": [
       "int"
      ]
     },
     "execution_count": 5,
     "metadata": {},
     "output_type": "execute_result"
    }
   ],
   "source": [
    "my_int = 7\n",
    "print(my_int)\n",
    "type(my_int)"
   ]
  },
  {
   "cell_type": "markdown",
   "id": "d0fb02ca",
   "metadata": {},
   "source": [
    "To define a floating point number, you may use one of the following notations:"
   ]
  },
  {
   "cell_type": "code",
   "execution_count": null,
   "id": "dddcba7f",
   "metadata": {},
   "outputs": [],
   "source": [
    "my_float = 7.0\n",
    "print(my_float)\n",
    "# let's try with another method\n",
    "new_my_float = float(7)\n",
    "print(new_my_float)\n",
    "\n",
    "# checking the num type\n",
    "print(type(my_float))\n",
    "print(type(new_my_float))"
   ]
  },
  {
   "cell_type": "markdown",
   "id": "c3570252",
   "metadata": {},
   "source": [
    "### Strings\n",
    "\n",
    "Strings are defined either with a single quote or a double quotes."
   ]
  },
  {
   "cell_type": "code",
   "execution_count": null,
   "id": "f1205854",
   "metadata": {},
   "outputs": [],
   "source": [
    "my_string = 'hello'\n",
    "print(my_string)\n",
    "my_string = \"hello\"\n",
    "print(my_string)\n",
    "\n",
    "type(my_string)"
   ]
  },
  {
   "cell_type": "markdown",
   "id": "ae1f388d",
   "metadata": {},
   "source": [
    "The difference between the two is that using double quotes makes it easy to include apostrophes (whereas these would terminate the string if using single quotes)"
   ]
  },
  {
   "cell_type": "code",
   "execution_count": null,
   "id": "834ebe7e",
   "metadata": {},
   "outputs": [],
   "source": [
    "mystring = \"Don't worry about apostrophes\"\n",
    "print(mystring)"
   ]
  },
  {
   "cell_type": "markdown",
   "id": "31515a15",
   "metadata": {},
   "source": [
    "Simple operators can be executed on numbers and strings:"
   ]
  },
  {
   "cell_type": "code",
   "execution_count": null,
   "id": "09e088b0",
   "metadata": {},
   "outputs": [],
   "source": [
    "# with numbers\n",
    "one = 1\n",
    "two = 2\n",
    "three = one + two\n",
    "print(three)"
   ]
  },
  {
   "cell_type": "code",
   "execution_count": null,
   "id": "69d6d418",
   "metadata": {},
   "outputs": [],
   "source": [
    "# with strings\n",
    "hello = \"hello\"\n",
    "world = \"world\"\n",
    "helloworld = hello + \" \" + world\n",
    "print(helloworld)"
   ]
  },
  {
   "cell_type": "markdown",
   "id": "b5cf7c6f",
   "metadata": {},
   "source": [
    "Assignments can be done on more than one variable \"simultaneously\" on the same line like this:"
   ]
  },
  {
   "cell_type": "code",
   "execution_count": null,
   "id": "0f1e1f49",
   "metadata": {},
   "outputs": [],
   "source": [
    "a, b = 3, 4\n",
    "print(a, b)"
   ]
  },
  {
   "cell_type": "markdown",
   "id": "88b80ce2",
   "metadata": {},
   "source": [
    "Mixing operators between numbers and strings is not supported:\n",
    "\n"
   ]
  },
  {
   "cell_type": "code",
   "execution_count": null,
   "id": "e26380b4",
   "metadata": {},
   "outputs": [],
   "source": [
    "# This will not work!\n",
    "one = 1\n",
    "two = 2\n",
    "hello = \"hello\"\n",
    "\n",
    "print(one + two + hello)"
   ]
  },
  {
   "cell_type": "markdown",
   "id": "74563092",
   "metadata": {},
   "source": [
    "But I can still print string and numbers together in this way:"
   ]
  },
  {
   "cell_type": "code",
   "execution_count": 21,
   "id": "55f668d5",
   "metadata": {},
   "outputs": [
    {
     "name": "stdout",
     "output_type": "stream",
     "text": [
      "My value is = 10\n"
     ]
    }
   ],
   "source": [
    "my_val = 10\n",
    "\n",
    "print(\"My value is = %d\" % my_val)"
   ]
  },
  {
   "cell_type": "code",
   "execution_count": null,
   "id": "715de7a3",
   "metadata": {},
   "outputs": [],
   "source": []
  },
  {
   "cell_type": "code",
   "execution_count": 23,
   "id": "2adb84e2",
   "metadata": {},
   "outputs": [
    {
     "name": "stdout",
     "output_type": "stream",
     "text": [
      "This is my val: 5.75\n"
     ]
    }
   ],
   "source": [
    "my_val = 5.7484985\n",
    "\n",
    "my_string = 'This is my val: '\n",
    "\n",
    "print(my_string + str(round(my_val,2)))"
   ]
  },
  {
   "cell_type": "markdown",
   "id": "8b5fe59f",
   "metadata": {},
   "source": [
    "### Exercise\n",
    "The target of this exercise is to create a __string, an integer, and a floating point number__. The string should be named mystring and should contain the word \"hello\". The floating point number should be named myfloat and should contain the number 10.0, and the integer should be named myint and should contain the number 20."
   ]
  },
  {
   "cell_type": "code",
   "execution_count": 24,
   "id": "bb7bbb4b",
   "metadata": {},
   "outputs": [
    {
     "ename": "SyntaxError",
     "evalue": "invalid syntax (<ipython-input-24-fae8f6c72a61>, line 1)",
     "output_type": "error",
     "traceback": [
      "\u001b[1;36m  File \u001b[1;32m\"<ipython-input-24-fae8f6c72a61>\"\u001b[1;36m, line \u001b[1;32m1\u001b[0m\n\u001b[1;33m    how are you\u001b[0m\n\u001b[1;37m        ^\u001b[0m\n\u001b[1;31mSyntaxError\u001b[0m\u001b[1;31m:\u001b[0m invalid syntax\n"
     ]
    }
   ],
   "source": []
  },
  {
   "cell_type": "code",
   "execution_count": null,
   "id": "0f2bb270",
   "metadata": {},
   "outputs": [],
   "source": [
    "# change this code\n",
    "mystring = ...\n",
    "myfloat = ...\n",
    "myint = ...\n",
    "\n",
    "# testing code\n",
    "if mystring == \"hello\":\n",
    "    print(\"String: \" str(mystring))\n",
    "if isinstance(myfloat, float) and myfloat == 10.0:\n",
    "    print(\"Float: \" str(myfloat))\n",
    "if isinstance(myint, int) and myint == 20:\n",
    "    print(\"Integer: \" str(myint))"
   ]
  },
  {
   "cell_type": "markdown",
   "id": "d4593592",
   "metadata": {},
   "source": [
    "## List"
   ]
  },
  {
   "cell_type": "markdown",
   "id": "7f1900f1",
   "metadata": {},
   "source": [
    "Lists are very similar to arrays. They can contain any type of variable, and they can contain as many variables as you wish. Lists can also be iterated over in a very simple manner. Here is an example of how to build a list."
   ]
  },
  {
   "cell_type": "code",
   "execution_count": null,
   "id": "e589c7ff",
   "metadata": {},
   "outputs": [],
   "source": [
    "simplest_list = [10,20,30,40,50]\n",
    "print(simplest_list)"
   ]
  },
  {
   "cell_type": "code",
   "execution_count": null,
   "id": "86730e6f",
   "metadata": {},
   "outputs": [],
   "source": [
    "# add elements to a list\n",
    "mylist = []\n",
    "print(mylist)\n",
    "mylist.append(1)\n",
    "print(mylist)\n",
    "mylist.append(2)\n",
    "print(mylist)\n",
    "mylist.append(3)\n",
    "\n",
    "print(mylist)"
   ]
  },
  {
   "cell_type": "code",
   "execution_count": null,
   "id": "15b4206e",
   "metadata": {},
   "outputs": [],
   "source": [
    "# print a specific value of a list\n",
    "\n",
    "# N.B.: before running this cell, TRY TO GUESS THE OUTPUT\n",
    "print(mylist[0])"
   ]
  },
  {
   "cell_type": "code",
   "execution_count": null,
   "id": "a106f259",
   "metadata": {},
   "outputs": [],
   "source": [
    "# prints out each value separately\n",
    "for x in mylist:\n",
    "    print(x)"
   ]
  },
  {
   "cell_type": "markdown",
   "id": "81b5bab6",
   "metadata": {},
   "source": [
    "Accessing an index which does not exist generates an exception (an error)."
   ]
  },
  {
   "cell_type": "code",
   "execution_count": null,
   "id": "d5f5d1cd",
   "metadata": {},
   "outputs": [],
   "source": [
    "mylist = [1,2,3]\n",
    "print(mylist[10])"
   ]
  },
  {
   "cell_type": "markdown",
   "id": "a69d0b2d",
   "metadata": {},
   "source": [
    "__REMEMBER: PYTHON STARTS COUNTING FROM ZERO!!!!__"
   ]
  },
  {
   "cell_type": "markdown",
   "id": "12080642",
   "metadata": {},
   "source": [
    "### Exercise\n",
    "\n",
    "In this exercise, you will need to add numbers and strings to the correct lists using the \"append\" list method. You must add the numbers 1,2, and 3 to the \"numbers\" list, and the words 'hello' and 'world' to the strings variable.\n",
    "\n",
    "You will also have to fill in the variable second_name with the second name in the names list, using the brackets operator []. Note that the index is zero-based, so if you want to access the second item in the list, its index will be 1."
   ]
  },
  {
   "cell_type": "code",
   "execution_count": null,
   "id": "8dcaaaeb",
   "metadata": {},
   "outputs": [],
   "source": [
    "numbers = []\n",
    "strings = []\n",
    "names = [\"John\", \"Eric\", \"Jessica\"]\n",
    "\n",
    "# write your code here\n",
    "second_name = ...\n",
    "\n",
    "\n",
    "# this code should write out the filled arrays and the second name in the names list (Eric).\n",
    "print(numbers)\n",
    "print(strings)\n",
    "print(\"The second name on the names list is %s\" % second_name)"
   ]
  },
  {
   "cell_type": "markdown",
   "id": "7a90355a",
   "metadata": {},
   "source": [
    "## Basic Operators"
   ]
  },
  {
   "cell_type": "markdown",
   "id": "67e4870c",
   "metadata": {},
   "source": [
    "This section explains how to use basic operators in Python.\n",
    "\n",
    "### Arithmetic Operators\n",
    "Just as any other programming languages, the addition, subtraction, multiplication, and division operators can be used with numbers."
   ]
  },
  {
   "cell_type": "code",
   "execution_count": null,
   "id": "8f1a3fc7",
   "metadata": {},
   "outputs": [],
   "source": [
    "number = 1 + 2 * 3 / 4.0\n",
    "print(number)"
   ]
  },
  {
   "cell_type": "markdown",
   "id": "0a8c6cdd",
   "metadata": {},
   "source": [
    "Another operator available is the modulo (%) operator, which returns the integer remainder of the division. dividend % divisor = remainder."
   ]
  },
  {
   "cell_type": "code",
   "execution_count": null,
   "id": "fec63e0a",
   "metadata": {},
   "outputs": [],
   "source": [
    "remainder = 11 % 3\n",
    "print(remainder)"
   ]
  },
  {
   "cell_type": "markdown",
   "id": "ead71c75",
   "metadata": {},
   "source": [
    "This can be easily used to check if a number is even or odd"
   ]
  },
  {
   "cell_type": "code",
   "execution_count": null,
   "id": "6b17de1a",
   "metadata": {},
   "outputs": [],
   "source": [
    "number = 4\n",
    "# checking if the remainder is equal to zero\n",
    "number%2 == 0"
   ]
  },
  {
   "cell_type": "markdown",
   "id": "d72c08ac",
   "metadata": {},
   "source": [
    "\n"
   ]
  },
  {
   "cell_type": "markdown",
   "id": "fa565872",
   "metadata": {},
   "source": [
    "Using two multiplication symbols makes a power relationship"
   ]
  },
  {
   "cell_type": "code",
   "execution_count": null,
   "id": "dfebfc4a",
   "metadata": {},
   "outputs": [],
   "source": [
    "squared = 7 ** 2\n",
    "cubed = 2 ** 3\n",
    "print(squared)\n",
    "print(cubed)"
   ]
  },
  {
   "cell_type": "markdown",
   "id": "2baa2c05",
   "metadata": {},
   "source": [
    "### Using Operators with Strings\n",
    "Python supports concatenating strings using the addition operator:\n",
    "\n"
   ]
  },
  {
   "cell_type": "code",
   "execution_count": null,
   "id": "40f1e6e7",
   "metadata": {},
   "outputs": [],
   "source": [
    "helloworld = \"hello\" + \" \" + \"world\"\n",
    "print(helloworld)"
   ]
  },
  {
   "cell_type": "markdown",
   "id": "f8322b12",
   "metadata": {},
   "source": [
    "Python also supports multiplying strings to form a string with a repeating sequence:"
   ]
  },
  {
   "cell_type": "code",
   "execution_count": null,
   "id": "f41d7c56",
   "metadata": {},
   "outputs": [],
   "source": [
    "lotsofhellos = \"hello\" * 10\n",
    "# Guess the output\n",
    "print(lotsofhellos)"
   ]
  },
  {
   "cell_type": "markdown",
   "id": "10b2939b",
   "metadata": {},
   "source": [
    "### Using Operators with Lists\n",
    "Lists can be joined with the addition operators:"
   ]
  },
  {
   "cell_type": "code",
   "execution_count": null,
   "id": "8e352d38",
   "metadata": {},
   "outputs": [],
   "source": [
    "even_numbers = [2,4,6,8]\n",
    "odd_numbers = [1,3,5,7]\n",
    "all_numbers = odd_numbers + even_numbers\n",
    "print(all_numbers)"
   ]
  },
  {
   "cell_type": "markdown",
   "id": "8e104e9b",
   "metadata": {},
   "source": [
    "Just as in strings, Python supports forming new lists with a repeating sequence using the multiplication operator:"
   ]
  },
  {
   "cell_type": "code",
   "execution_count": null,
   "id": "2feace5f",
   "metadata": {},
   "outputs": [],
   "source": [
    "print([1,2,3] * 3)"
   ]
  },
  {
   "cell_type": "markdown",
   "id": "ac022558",
   "metadata": {},
   "source": [
    "### Exercise\n",
    "The target of this exercise is to create two lists called x_list and y_list, which contain 10 instances of the variables x and y, respectively. You are also required to create a list called big_list, which contains the variables x and y, 10 times each, by concatenating the two lists you have created."
   ]
  },
  {
   "cell_type": "code",
   "execution_count": null,
   "id": "c1843194",
   "metadata": {},
   "outputs": [],
   "source": [
    "x = object()\n",
    "y = object()\n",
    "\n",
    "# TODO: change this code\n",
    "x_list = [x]\n",
    "y_list = [y]\n",
    "big_list = []\n",
    "\n",
    "print(\"x_list contains %d objects\" % len(x_list))\n",
    "print(\"y_list contains %d objects\" % len(y_list))\n",
    "print(\"big_list contains %d objects\" % len(big_list))\n",
    "\n",
    "# testing code\n",
    "if x_list.count(x) == 10 and y_list.count(y) == 10:\n",
    "    print(\"Almost there...\")\n",
    "if big_list.count(x) == 10 and big_list.count(y) == 10:\n",
    "    print(\"Great!\")"
   ]
  },
  {
   "cell_type": "markdown",
   "id": "111c7113",
   "metadata": {},
   "source": [
    "## Conditions\n",
    "Python uses boolean logic to evaluate conditions. The boolean values True and False are returned when an expression is compared or evaluated. For example:"
   ]
  },
  {
   "cell_type": "code",
   "execution_count": null,
   "id": "00029e4d",
   "metadata": {},
   "outputs": [],
   "source": [
    "x = 2\n",
    "print(x == 2) # prints out True\n",
    "print(x == 3) # prints out False\n",
    "print(x < 3) # prints out True"
   ]
  },
  {
   "cell_type": "markdown",
   "id": "38ee37b2",
   "metadata": {},
   "source": [
    "#### Boolean operators\n",
    "The \"and\" and \"or\" boolean operators allow building complex boolean expressions, for example:"
   ]
  },
  {
   "cell_type": "code",
   "execution_count": null,
   "id": "4be5f29e",
   "metadata": {},
   "outputs": [],
   "source": [
    "name = \"John\"\n",
    "age = 23\n",
    "if name == \"John\" and age == 23:\n",
    "    print(\"Your name is John, and you are also 23 years old.\")\n",
    "\n",
    "if name == \"John\" or name == \"Rick\":\n",
    "    print(\"Your name is either John or Rick.\")"
   ]
  },
  {
   "cell_type": "markdown",
   "id": "ea984955",
   "metadata": {},
   "source": [
    "#### The \"in\" operator\n",
    "The \"in\" operator could be used to check if a specified object exists within an iterable object container, such as a list:"
   ]
  },
  {
   "cell_type": "code",
   "execution_count": null,
   "id": "8703fd07",
   "metadata": {},
   "outputs": [],
   "source": [
    "name = \"John\"\n",
    "if name in [\"John\", \"Rick\"]:\n",
    "    print(\"Your name is either John or Rick.\")"
   ]
  },
  {
   "cell_type": "code",
   "execution_count": null,
   "id": "c3a4708a",
   "metadata": {},
   "outputs": [],
   "source": [
    "x = 2\n",
    "if x == 2:\n",
    "    print(\"x equals two!\")\n",
    "else:\n",
    "    print(\"x does not equal to two.\")"
   ]
  },
  {
   "cell_type": "markdown",
   "id": "e2940aca",
   "metadata": {},
   "source": [
    "#### The 'is' operator\n",
    "\n",
    "Unlike the double equals operator \"==\", the \"is\" operator does not match the values of the variables, but the instances themselves. For example:"
   ]
  },
  {
   "cell_type": "code",
   "execution_count": null,
   "id": "bf1e2102",
   "metadata": {},
   "outputs": [],
   "source": [
    "x = [1,2,3]\n",
    "y = [1,2,3]\n",
    "print(x == y) # Prints out True\n",
    "print(x is y) # Prints out False"
   ]
  },
  {
   "cell_type": "markdown",
   "id": "7d745a01",
   "metadata": {},
   "source": [
    "### Exercise\n",
    "Change the variables in the first section, so that each if statement resolves as True."
   ]
  },
  {
   "cell_type": "code",
   "execution_count": 25,
   "id": "15ec6c14",
   "metadata": {},
   "outputs": [
    {
     "name": "stderr",
     "output_type": "stream",
     "text": [
      "<>:22: SyntaxWarning: \"is not\" with a literal. Did you mean \"!=\"?\n",
      "<>:22: SyntaxWarning: \"is not\" with a literal. Did you mean \"!=\"?\n"
     ]
    },
    {
     "ename": "IndexError",
     "evalue": "list index out of range",
     "output_type": "error",
     "traceback": [
      "\u001b[1;31m---------------------------------------------------------------------------\u001b[0m",
      "\u001b[1;31mIndexError\u001b[0m                                Traceback (most recent call last)",
      "\u001b[1;32m<ipython-input-25-4f9d62a54ea8>\u001b[0m in \u001b[0;36m<module>\u001b[1;34m\u001b[0m\n\u001b[0;32m     17\u001b[0m     \u001b[0mprint\u001b[0m\u001b[1;33m(\u001b[0m\u001b[1;34m\"4\"\u001b[0m\u001b[1;33m)\u001b[0m\u001b[1;33m\u001b[0m\u001b[1;33m\u001b[0m\u001b[0m\n\u001b[0;32m     18\u001b[0m \u001b[1;33m\u001b[0m\u001b[0m\n\u001b[1;32m---> 19\u001b[1;33m \u001b[1;32mif\u001b[0m \u001b[0mfirst_array\u001b[0m\u001b[1;33m[\u001b[0m\u001b[1;36m1\u001b[0m\u001b[1;33m]\u001b[0m\u001b[1;33m==\u001b[0m\u001b[1;36m2\u001b[0m \u001b[1;32mand\u001b[0m \u001b[0mfirst_array\u001b[0m\u001b[1;33m[\u001b[0m\u001b[1;36m0\u001b[0m\u001b[1;33m]\u001b[0m \u001b[1;33m==\u001b[0m \u001b[1;36m1\u001b[0m\u001b[1;33m:\u001b[0m\u001b[1;33m\u001b[0m\u001b[1;33m\u001b[0m\u001b[0m\n\u001b[0m\u001b[0;32m     20\u001b[0m     \u001b[0mprint\u001b[0m\u001b[1;33m(\u001b[0m\u001b[1;34m\"5\"\u001b[0m\u001b[1;33m)\u001b[0m\u001b[1;33m\u001b[0m\u001b[1;33m\u001b[0m\u001b[0m\n\u001b[0;32m     21\u001b[0m \u001b[1;33m\u001b[0m\u001b[0m\n",
      "\u001b[1;31mIndexError\u001b[0m: list index out of range"
     ]
    }
   ],
   "source": [
    "# change this code\n",
    "number = 10\n",
    "second_number = 10\n",
    "first_array = []\n",
    "second_array = [1,2,3]\n",
    "\n",
    "if number > 15:\n",
    "    print(\"1\")\n",
    "\n",
    "if first_array == 1:\n",
    "    print(\"2\")\n",
    "\n",
    "if len(second_array) == 2:\n",
    "    print(\"3\")\n",
    "\n",
    "if len(first_array) + len(second_array) == 5:\n",
    "    print(\"4\")\n",
    "\n",
    "if first_array[1]==2 and first_array[0] == 1:\n",
    "    print(\"5\")\n",
    "\n",
    "if second_number[0] is not 5:\n",
    "    print(\"6\")"
   ]
  },
  {
   "cell_type": "markdown",
   "id": "2406ca2f",
   "metadata": {},
   "source": [
    "## Loops\n",
    "There are two types of loops in Python, for and while.\n",
    "\n",
    "### The 'for' loop\n",
    "\n",
    "For loops iterate over a given sequence. Here is an example:"
   ]
  },
  {
   "cell_type": "code",
   "execution_count": 28,
   "id": "28bd83ce",
   "metadata": {},
   "outputs": [
    {
     "name": "stdout",
     "output_type": "stream",
     "text": [
      "4\n",
      "5\n",
      "7\n",
      "9\n"
     ]
    }
   ],
   "source": [
    "primes = [2, 3, 5, 7]\n",
    "for anyname in primes:\n",
    "    print(anyname+2)"
   ]
  },
  {
   "cell_type": "markdown",
   "id": "09f46f46",
   "metadata": {},
   "source": [
    "There are other two useful variants of the for loop. Try to understand what they do"
   ]
  },
  {
   "cell_type": "code",
   "execution_count": 29,
   "id": "59c2bc3c",
   "metadata": {},
   "outputs": [
    {
     "name": "stdout",
     "output_type": "stream",
     "text": [
      "This is my index: 0\n",
      "This is my value: 2\n",
      "This is my index: 1\n",
      "This is my value: 3\n",
      "This is my index: 2\n",
      "This is my value: 5\n",
      "This is my index: 3\n",
      "This is my value: 7\n"
     ]
    }
   ],
   "source": [
    "# the enumerate\n",
    "for i, val in enumerate(primes):\n",
    "    print('This is my index: ' + str(i))\n",
    "    print('This is my value: ' + str(val))"
   ]
  },
  {
   "cell_type": "code",
   "execution_count": 31,
   "id": "0ccae6f7",
   "metadata": {},
   "outputs": [
    {
     "data": {
      "text/plain": [
       "23"
      ]
     },
     "execution_count": 31,
     "metadata": {},
     "output_type": "execute_result"
    }
   ],
   "source": [
    "x = [23,65,73]\n",
    "\n",
    "x[0]"
   ]
  },
  {
   "cell_type": "code",
   "execution_count": 34,
   "id": "ae5a74f0",
   "metadata": {},
   "outputs": [
    {
     "name": "stdout",
     "output_type": "stream",
     "text": [
      "88\n",
      "138\n"
     ]
    },
    {
     "ename": "IndexError",
     "evalue": "list index out of range",
     "output_type": "error",
     "traceback": [
      "\u001b[1;31m---------------------------------------------------------------------------\u001b[0m",
      "\u001b[1;31mIndexError\u001b[0m                                Traceback (most recent call last)",
      "\u001b[1;32m<ipython-input-34-de44912e9ac2>\u001b[0m in \u001b[0;36m<module>\u001b[1;34m\u001b[0m\n\u001b[0;32m      3\u001b[0m \u001b[1;33m\u001b[0m\u001b[0m\n\u001b[0;32m      4\u001b[0m \u001b[1;32mfor\u001b[0m \u001b[0mmy_index\u001b[0m\u001b[1;33m,\u001b[0m \u001b[0mmyvalue\u001b[0m \u001b[1;32min\u001b[0m \u001b[0menumerate\u001b[0m\u001b[1;33m(\u001b[0m\u001b[0mx\u001b[0m\u001b[1;33m)\u001b[0m\u001b[1;33m:\u001b[0m\u001b[1;33m\u001b[0m\u001b[1;33m\u001b[0m\u001b[0m\n\u001b[1;32m----> 5\u001b[1;33m     \u001b[0mprint\u001b[0m\u001b[1;33m(\u001b[0m\u001b[0mmyvalue\u001b[0m \u001b[1;33m+\u001b[0m \u001b[0mx\u001b[0m\u001b[1;33m[\u001b[0m\u001b[0mmy_index\u001b[0m \u001b[1;33m+\u001b[0m \u001b[1;36m1\u001b[0m\u001b[1;33m]\u001b[0m\u001b[1;33m)\u001b[0m\u001b[1;33m\u001b[0m\u001b[1;33m\u001b[0m\u001b[0m\n\u001b[0m",
      "\u001b[1;31mIndexError\u001b[0m: list index out of range"
     ]
    }
   ],
   "source": [
    "x = [23,65,73]\n",
    "y = [12,13,14]\n",
    "\n",
    "for my_index, myvalue in enumerate(x):\n",
    "    \n",
    "    print(myvalue + x[my_index + 1])"
   ]
  },
  {
   "cell_type": "code",
   "execution_count": 36,
   "id": "7de42e5e",
   "metadata": {},
   "outputs": [
    {
     "name": "stdout",
     "output_type": "stream",
     "text": [
      "23\n",
      "12\n",
      "65\n",
      "13\n",
      "73\n",
      "14\n"
     ]
    }
   ],
   "source": [
    "# the range\n",
    "for i in range(len(x)):\n",
    "    print(x[i])\n",
    "    print(y[i])"
   ]
  },
  {
   "cell_type": "markdown",
   "id": "ce70174c",
   "metadata": {},
   "source": [
    "### \"while\" loops\n",
    "While loops repeat as long as a certain boolean condition is met. For example:"
   ]
  },
  {
   "cell_type": "code",
   "execution_count": null,
   "id": "383180c2",
   "metadata": {},
   "outputs": [],
   "source": [
    "# Prints out 0,1,2,3,4\n",
    "\n",
    "count = 0\n",
    "while count < 5:\n",
    "    print(count)\n",
    "    count += 1  # This is the same as count = count + 1"
   ]
  },
  {
   "cell_type": "markdown",
   "id": "0ac06693",
   "metadata": {},
   "source": [
    "### \"break\" and \"continue\" statements\n",
    "__break__ is used to exit a for loop or a while loop, whereas __continue__ is used to skip the current block, and return to the \"for\" or \"while\" statement. A few examples:"
   ]
  },
  {
   "cell_type": "code",
   "execution_count": null,
   "id": "c51a9607",
   "metadata": {},
   "outputs": [],
   "source": [
    "# Prints out 0,1,2,3,4\n",
    "\n",
    "count = 0\n",
    "while True:\n",
    "    print(count)\n",
    "    count += 1\n",
    "    if count >= 5:\n",
    "        break\n",
    "\n",
    "# Prints out only odd numbers - 1,3,5,7,9\n",
    "for x in range(10):\n",
    "    # Check if x is even\n",
    "    if x % 2 == 0:\n",
    "        continue\n",
    "    print(x)"
   ]
  },
  {
   "cell_type": "markdown",
   "id": "ae5efadf",
   "metadata": {},
   "source": [
    "## Exercise\n",
    "Loop through and print out all even numbers from the numbers list in the same order they are received. Don't print any numbers that come after 237 in the sequence.\n",
    "\n"
   ]
  },
  {
   "cell_type": "code",
   "execution_count": null,
   "id": "728084a1",
   "metadata": {},
   "outputs": [],
   "source": [
    "numbers = [\n",
    "    951, 402, 984, 651, 360, 69, 408, 319, 601, 485, 980, 507, 725, 547, 544,\n",
    "    615, 83, 165, 141, 501, 263, 617, 865, 575, 219, 390, 984, 592, 236, 105, 942, 941,\n",
    "    386, 462, 47, 418, 907, 344, 236, 375, 823, 566, 597, 978, 328, 615, 953, 345,\n",
    "    399, 162, 758, 219, 918, 237, 412, 566, 826, 248, 866, 950, 626, 949, 687, 217,\n",
    "    815, 67, 104, 58, 512, 24, 892, 894, 767, 553, 81, 379, 843, 831, 445, 742, 717,\n",
    "    958, 609, 842, 451, 688, 753, 854, 685, 93, 857, 440, 380, 126, 721, 328, 753, 470,\n",
    "    743, 527\n",
    "]\n",
    "\n",
    "# your code goes here\n",
    "for number in numbers:"
   ]
  },
  {
   "cell_type": "markdown",
   "id": "d8dfcc60",
   "metadata": {},
   "source": [
    "# Functions\n",
    "\n",
    "### What are Functions?\n",
    "Functions are a convenient way to divide your code into useful blocks, allowing us to order our code, make it more readable, reuse it and save some time. Also functions are a key way to define interfaces so programmers can share their code.\n",
    "\n",
    "Functions in python are defined using the block keyword \"def\", followed with the function's name. For example:"
   ]
  },
  {
   "cell_type": "code",
   "execution_count": null,
   "id": "31ec1288",
   "metadata": {},
   "outputs": [],
   "source": [
    "def my_function():\n",
    "    print(\"Hello From My Function!\")"
   ]
  },
  {
   "cell_type": "code",
   "execution_count": null,
   "id": "1768b1cf",
   "metadata": {},
   "outputs": [],
   "source": [
    "my_function()"
   ]
  },
  {
   "cell_type": "markdown",
   "id": "a3a53677",
   "metadata": {},
   "source": [
    "Functions may also receive arguments (variables passed from the caller to the function). For example:"
   ]
  },
  {
   "cell_type": "code",
   "execution_count": null,
   "id": "f2cb5a2f",
   "metadata": {},
   "outputs": [],
   "source": [
    "def my_function_with_args(username, greeting):\n",
    "    print(\"Hello, %s , From My Function!, I wish you %s\"%(username, greeting))"
   ]
  },
  {
   "cell_type": "code",
   "execution_count": null,
   "id": "4c97e612",
   "metadata": {},
   "outputs": [],
   "source": [
    "# calling the previous function\n",
    "my_function_with_args('Bene', 'a nice day')"
   ]
  },
  {
   "cell_type": "markdown",
   "id": "ad5585d8",
   "metadata": {},
   "source": [
    "### Exercise\n",
    "In this exercise you'll use an existing function, and while adding your own to create a fully functional program.\n",
    "\n",
    "Add a function named list_benefits() that returns the following list of strings: \"More organized code\", \"More readable code\", \"Easier code reuse\", \"Allowing programmers to share and connect code together\"\n",
    "\n",
    "Add a function named build_sentence(info) which receives a single argument containing a string and returns a sentence starting with the given string and ending with the string \" is a benefit of functions!\"\n",
    "\n",
    "Run and see all the functions work together!"
   ]
  },
  {
   "cell_type": "code",
   "execution_count": 1,
   "id": "5be97165",
   "metadata": {},
   "outputs": [],
   "source": [
    "# Modify this function to return a list of strings as defined above\n",
    "def list_benefits():\n",
    "    return []\n",
    "\n",
    "# Modify this function to concatenate to each benefit - \" is a benefit of functions!\"\n",
    "def build_sentence(benefit):\n",
    "    return \"\"\n",
    "\n",
    "def name_the_benefits_of_functions():\n",
    "    list_of_benefits = list_benefits()\n",
    "    for benefit in list_of_benefits:\n",
    "        print(build_sentence(benefit))\n",
    "\n",
    "name_the_benefits_of_functions()"
   ]
  },
  {
   "cell_type": "code",
   "execution_count": null,
   "id": "0aa67d10",
   "metadata": {},
   "outputs": [],
   "source": []
  }
 ],
 "metadata": {
  "kernelspec": {
   "display_name": "Python 3",
   "language": "python",
   "name": "python3"
  },
  "language_info": {
   "codemirror_mode": {
    "name": "ipython",
    "version": 3
   },
   "file_extension": ".py",
   "mimetype": "text/x-python",
   "name": "python",
   "nbconvert_exporter": "python",
   "pygments_lexer": "ipython3",
   "version": "3.8.8"
  }
 },
 "nbformat": 4,
 "nbformat_minor": 5
}
