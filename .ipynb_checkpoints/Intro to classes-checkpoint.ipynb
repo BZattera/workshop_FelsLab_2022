{
 "cells": [
  {
   "cell_type": "markdown",
   "id": "8329975a",
   "metadata": {},
   "source": [
    "# Classes and objects - an introduction"
   ]
  },
  {
   "cell_type": "code",
   "execution_count": 1,
   "id": "9ca1c2bd",
   "metadata": {},
   "outputs": [],
   "source": [
    "import numpy as np"
   ]
  },
  {
   "cell_type": "markdown",
   "id": "4ee8065c",
   "metadata": {},
   "source": [
    "Let's have a look at the standard syntax to define a __class__:"
   ]
  },
  {
   "cell_type": "code",
   "execution_count": 2,
   "id": "14513168",
   "metadata": {},
   "outputs": [],
   "source": [
    "class Fly():\n",
    "    pass"
   ]
  },
  {
   "cell_type": "markdown",
   "id": "e1c575b8",
   "metadata": {},
   "source": [
    "Now we will create __instances__ of that class. The two instances will be __two different objects__ of the same class:\n",
    "\n",
    "Instance − An individual object of a certain class. An object obj that belongs to a class Circle, for example, is an instance of the class Circle.\n",
    "\n",
    "Instantiation − The creation of an instance of a class."
   ]
  },
  {
   "cell_type": "code",
   "execution_count": 3,
   "id": "4d95274a",
   "metadata": {},
   "outputs": [
    {
     "data": {
      "text/plain": [
       "False"
      ]
     },
     "execution_count": 3,
     "metadata": {},
     "output_type": "execute_result"
    }
   ],
   "source": [
    "a_fly = Fly()\n",
    "another_fly = Fly()\n",
    "\n",
    "a_fly == another_fly"
   ]
  },
  {
   "cell_type": "markdown",
   "id": "4aeb9a06",
   "metadata": {},
   "source": [
    "Below, we create __two references to the same object__:"
   ]
  },
  {
   "cell_type": "code",
   "execution_count": 4,
   "id": "dfbf1156",
   "metadata": {},
   "outputs": [
    {
     "data": {
      "text/plain": [
       "True"
      ]
     },
     "execution_count": 4,
     "metadata": {},
     "output_type": "execute_result"
    }
   ],
   "source": [
    "a_fly = Fly()\n",
    "a_second_ref_to_first_fly = a_fly\n",
    "\n",
    "a_fly == a_second_ref_to_first_fly"
   ]
  },
  {
   "cell_type": "markdown",
   "id": "fb007d04",
   "metadata": {},
   "source": [
    "Let's add some __attributes__ to our class. Attributes are variables related to individual objects of a class. To add an attribute, we can define the constructor method __init__() of the class:"
   ]
  },
  {
   "cell_type": "code",
   "execution_count": 26,
   "id": "10baed58",
   "metadata": {},
   "outputs": [],
   "source": [
    "class Fly():\n",
    "    def __init__(self, age=7, genotype=\"CS\"):        \n",
    "        print(\"I am creating an object\")\n",
    "        self.age = age\n",
    "        self.genotype = genotype"
   ]
  },
  {
   "cell_type": "code",
   "execution_count": 27,
   "id": "f149921d",
   "metadata": {},
   "outputs": [
    {
     "name": "stdout",
     "output_type": "stream",
     "text": [
      "I am creating an object\n"
     ]
    },
    {
     "data": {
      "text/plain": [
       "'CS'"
      ]
     },
     "execution_count": 27,
     "metadata": {},
     "output_type": "execute_result"
    }
   ],
   "source": [
    "a_fly = Fly(age=10)\n",
    "a_fly.genotype"
   ]
  },
  {
   "cell_type": "markdown",
   "id": "62ca3c54",
   "metadata": {},
   "source": [
    "Every time we instantiate a Fly(), the Fly().__init__(...) function will be called:"
   ]
  },
  {
   "cell_type": "code",
   "execution_count": 28,
   "id": "6d45577e",
   "metadata": {},
   "outputs": [
    {
     "name": "stdout",
     "output_type": "stream",
     "text": [
      "I am creating an object\n",
      "I am creating an object\n",
      "age of a fly: 6\n",
      "age of another fly: 8\n"
     ]
    }
   ],
   "source": [
    "a_fly = Fly(age=6)\n",
    "another_fly = Fly(age=8)\n",
    "print(\"age of a fly: {}\".format(a_fly.age))\n",
    "print(\"age of another fly: {}\".format(another_fly.age))"
   ]
  },
  {
   "cell_type": "markdown",
   "id": "f23955b4",
   "metadata": {},
   "source": [
    "Changing the attribute of one object leave the other unaltered..."
   ]
  },
  {
   "cell_type": "code",
   "execution_count": 7,
   "id": "97d5c9c5",
   "metadata": {},
   "outputs": [
    {
     "name": "stdout",
     "output_type": "stream",
     "text": [
      "age of a fly: 6\n",
      "age of another fly: 9\n"
     ]
    }
   ],
   "source": [
    "another_fly.age = 9\n",
    "print(\"age of a fly: {}\".format(a_fly.age))\n",
    "print(\"age of another fly: {}\".format(another_fly.age))"
   ]
  },
  {
   "cell_type": "markdown",
   "id": "35c17415",
   "metadata": {},
   "source": [
    "...but changing the attribute of a second reference to the first object will modified the first object as well:"
   ]
  },
  {
   "cell_type": "code",
   "execution_count": 8,
   "id": "3dc5e4e5",
   "metadata": {},
   "outputs": [
    {
     "name": "stdout",
     "output_type": "stream",
     "text": [
      "age of a fly: 10\n"
     ]
    }
   ],
   "source": [
    "a_second_ref_to_first_fly = a_fly\n",
    "a_second_ref_to_first_fly.age = 10\n",
    "print(\"age of a fly: {}\".format(a_fly.age))"
   ]
  },
  {
   "cell_type": "code",
   "execution_count": 9,
   "id": "727a743e",
   "metadata": {},
   "outputs": [
    {
     "name": "stdout",
     "output_type": "stream",
     "text": [
      "age of a fly: 10\n",
      "age of another fly: 9\n"
     ]
    }
   ],
   "source": [
    "another_fly.age = 9\n",
    "print(\"age of a fly: {}\".format(a_fly.age))\n",
    "print(\"age of another fly: {}\".format(another_fly.age))"
   ]
  },
  {
   "cell_type": "markdown",
   "id": "273d13dc",
   "metadata": {},
   "source": [
    "For reasons that will be clearer later, sometimes we might want a function to ask for the value of specific attribute of an object:"
   ]
  },
  {
   "cell_type": "code",
   "execution_count": 10,
   "id": "5876ecfc",
   "metadata": {},
   "outputs": [
    {
     "data": {
      "text/plain": [
       "10"
      ]
     },
     "execution_count": 10,
     "metadata": {},
     "output_type": "execute_result"
    }
   ],
   "source": [
    "getattr(a_fly, \"age\")\n"
   ]
  },
  {
   "cell_type": "markdown",
   "id": "2a54414f",
   "metadata": {},
   "source": [
    "## What are classes useful for?\n",
    "Imagine we want to simulate trajectories from three flies. Each fly will have coordinates, position, and bout velocity. How do we keep track of all these parameters for all flies? Of course we could make arrays keeping track of all variables:"
   ]
  },
  {
   "cell_type": "code",
   "execution_count": 11,
   "id": "fe0db4ac",
   "metadata": {},
   "outputs": [],
   "source": [
    "fly_x_pos = np.zeros(3)\n",
    "fly_y_pos = np.zeros(3)\n",
    "fly_vel = np.array([5, 10, 3])\n",
    "\n",
    "def update_positions(fly_x_pos, fly_y_pos, fly_vel):\n",
    "    ..."
   ]
  },
  {
   "cell_type": "markdown",
   "id": "b1753263",
   "metadata": {},
   "source": [
    "Or we can make dictionaries for every fly, and then pass them to functions:"
   ]
  },
  {
   "cell_type": "code",
   "execution_count": 14,
   "id": "f1d954e5",
   "metadata": {},
   "outputs": [
    {
     "ename": "TypeError",
     "evalue": "update_positions() missing 2 required positional arguments: 'fly_y_pos' and 'fly_vel'",
     "output_type": "error",
     "traceback": [
      "\u001b[1;31m---------------------------------------------------------------------------\u001b[0m",
      "\u001b[1;31mTypeError\u001b[0m                                 Traceback (most recent call last)",
      "\u001b[1;32m<ipython-input-14-fe8245274bf3>\u001b[0m in \u001b[0;36m<module>\u001b[1;34m\u001b[0m\n\u001b[0;32m      3\u001b[0m \u001b[0mfly2_dict\u001b[0m \u001b[1;33m=\u001b[0m \u001b[0mdict\u001b[0m\u001b[1;33m(\u001b[0m\u001b[0mpos_x\u001b[0m\u001b[1;33m=\u001b[0m\u001b[1;36m0\u001b[0m\u001b[1;33m,\u001b[0m \u001b[0mpos_y\u001b[0m\u001b[1;33m=\u001b[0m\u001b[1;36m0\u001b[0m\u001b[1;33m,\u001b[0m \u001b[0mvel\u001b[0m\u001b[1;33m=\u001b[0m\u001b[1;36m5\u001b[0m\u001b[1;33m)\u001b[0m\u001b[1;33m\u001b[0m\u001b[1;33m\u001b[0m\u001b[0m\n\u001b[0;32m      4\u001b[0m \u001b[1;33m\u001b[0m\u001b[0m\n\u001b[1;32m----> 5\u001b[1;33m \u001b[0mupdate_positions\u001b[0m\u001b[1;33m(\u001b[0m\u001b[0mfly0_dict\u001b[0m\u001b[1;33m)\u001b[0m\u001b[1;33m\u001b[0m\u001b[1;33m\u001b[0m\u001b[0m\n\u001b[0m",
      "\u001b[1;31mTypeError\u001b[0m: update_positions() missing 2 required positional arguments: 'fly_y_pos' and 'fly_vel'"
     ]
    }
   ],
   "source": [
    "fly0_dict = dict(pos_x=0, pos_y=0, vel=5)\n",
    "fly1_dict = dict(pos_x=0, pos_y=0, vel=5)\n",
    "fly2_dict = dict(pos_x=0, pos_y=0, vel=5)\n",
    "\n",
    "update_positions(fly0_dict)"
   ]
  },
  {
   "cell_type": "markdown",
   "id": "909de339",
   "metadata": {},
   "source": [
    "Still, in such circumstances, classes can be very useful to keep together attributes that are referring to one thing (object, a fly in this case) and functions to operate on them. For example, for a moving fly:"
   ]
  },
  {
   "cell_type": "code",
   "execution_count": 21,
   "id": "235fec6d",
   "metadata": {},
   "outputs": [],
   "source": [
    "class Fly():\n",
    "    def __init__(self, age, start_pos_x=0, start_pos_y=0, max_speed=10):\n",
    "        \n",
    "        self.age = age\n",
    "        self.pos_x = start_pos_x\n",
    "        self.pos_y = start_pos_y\n",
    "        \n",
    "        self.max_speed = 10\n",
    "\n",
    "    def bout(self):\n",
    "        self.pos_x += np.random.randint(-self.max_speed, self.max_speed)\n",
    "        self.pos_y += np.random.randint(-self.max_speed, self.max_speed)\n",
    "        \n",
    "    def print_pos(self):\n",
    "        print(self.pos_x, self.pos_y)\n",
    "        \n",
    "    def reset_pos(self, pos_x, pos_y):\n",
    "        self.pos_x = pos_x\n",
    "        self.pos_y = pos_y"
   ]
  },
  {
   "cell_type": "code",
   "execution_count": 22,
   "id": "d048c1f2",
   "metadata": {},
   "outputs": [
    {
     "name": "stdout",
     "output_type": "stream",
     "text": [
      "0 0\n",
      "8 -7\n",
      "0 0\n"
     ]
    }
   ],
   "source": [
    "a_fly = Fly(8)\n",
    "\n",
    "a_fly.print_pos()\n",
    "a_fly.bout()\n",
    "a_fly.print_pos()\n",
    "a_fly.reset_pos(0, 0)\n",
    "a_fly.print_pos()"
   ]
  },
  {
   "cell_type": "markdown",
   "id": "4e6c74ef",
   "metadata": {},
   "source": [
    "## Inheritance\n",
    "One of the most powerful advantages of using classes is __inheritance__. With inheritance, we can easily define subcategories of a general class, adding new methods and overwriting old ones:"
   ]
  },
  {
   "cell_type": "code",
   "execution_count": 29,
   "id": "2ee9ca19",
   "metadata": {},
   "outputs": [],
   "source": [
    "class Animal():\n",
    "    def __init__(self, age, color=\"pink\"):\n",
    "        self.age=age\n",
    "        self.color = color\n",
    "        \n",
    "    def make_sound(self):\n",
    "        print(\"I don't know what sound to make\")\n",
    "       \n",
    "    \n",
    "class Dog(Animal):\n",
    "    def __init__(self, *args, name=\"Bob\", **kwargs):\n",
    "        print(kwargs)\n",
    "        super().__init__(*args, **kwargs)\n",
    "        self.name = name\n",
    "        \n",
    "    def make_sound(self):\n",
    "        super().make_sound()\n",
    "        print(\"Bau\")"
   ]
  },
  {
   "cell_type": "code",
   "execution_count": 40,
   "id": "022d1394",
   "metadata": {},
   "outputs": [
    {
     "name": "stdout",
     "output_type": "stream",
     "text": [
      "{'color': 'dark'}\n",
      "30\n"
     ]
    },
    {
     "data": {
      "text/plain": [
       "'dark'"
      ]
     },
     "execution_count": 40,
     "metadata": {},
     "output_type": "execute_result"
    }
   ],
   "source": [
    "a_dog = Dog(30, color=\"dark\")\n",
    "print(a_dog.age)\n",
    "a_dog.color"
   ]
  },
  {
   "cell_type": "code",
   "execution_count": null,
   "id": "d5426c57",
   "metadata": {},
   "outputs": [],
   "source": []
  }
 ],
 "metadata": {
  "kernelspec": {
   "display_name": "Python 3",
   "language": "python",
   "name": "python3"
  },
  "language_info": {
   "codemirror_mode": {
    "name": "ipython",
    "version": 3
   },
   "file_extension": ".py",
   "mimetype": "text/x-python",
   "name": "python",
   "nbconvert_exporter": "python",
   "pygments_lexer": "ipython3",
   "version": "3.8.8"
  }
 },
 "nbformat": 4,
 "nbformat_minor": 5
}
