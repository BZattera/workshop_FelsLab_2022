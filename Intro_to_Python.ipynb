{
 "cells": [
  {
   "cell_type": "markdown",
   "id": "e9c6ab07",
   "metadata": {},
   "source": [
    "### Intro to Python programming"
   ]
  },
  {
   "cell_type": "markdown",
   "id": "f2a841cd",
   "metadata": {},
   "source": [
    "Let's start with the easiest thing: print a message"
   ]
  },
  {
   "cell_type": "code",
   "execution_count": 2,
   "id": "f2697cae",
   "metadata": {},
   "outputs": [
    {
     "name": "stdout",
     "output_type": "stream",
     "text": [
      "This line will be printed\n",
      "Hello world\n"
     ]
    }
   ],
   "source": [
    "print(\"This line will be printed\")\n",
    "\n",
    "# or, for more conservative people\n",
    "print(\"Hello world\")"
   ]
  },
  {
   "cell_type": "markdown",
   "id": "06408775",
   "metadata": {},
   "source": [
    "As an exercise, let's print whatever you want:"
   ]
  },
  {
   "cell_type": "code",
   "execution_count": null,
   "id": "587caf2a",
   "metadata": {},
   "outputs": [],
   "source": []
  },
  {
   "cell_type": "markdown",
   "id": "fac12344",
   "metadata": {},
   "source": [
    "### Indentation\n",
    "\n",
    "Python uses indentation for blocks. __Indentation is mandatory in python to define the blocks of statements__. For example:"
   ]
  },
  {
   "cell_type": "code",
   "execution_count": 3,
   "id": "ecf83a2f",
   "metadata": {},
   "outputs": [
    {
     "name": "stdout",
     "output_type": "stream",
     "text": [
      "x is 1\n"
     ]
    }
   ],
   "source": [
    "x = 1\n",
    "if x ==1:\n",
    "    # indented block\n",
    "    print ('x is 1')"
   ]
  },
  {
   "cell_type": "markdown",
   "id": "b146eaa9",
   "metadata": {},
   "source": [
    "As an exercise, write an if statement that returns \"Good Morning\" if the time of the day is equal to morning"
   ]
  },
  {
   "cell_type": "code",
   "execution_count": null,
   "id": "501045d4",
   "metadata": {},
   "outputs": [],
   "source": []
  },
  {
   "cell_type": "markdown",
   "id": "5f7c038c",
   "metadata": {},
   "source": [
    "## Variables and Types"
   ]
  },
  {
   "cell_type": "markdown",
   "id": "fc23521d",
   "metadata": {},
   "source": [
    "Python is completely object oriented, and not \"statically typed\". You do not need to declare variables before using them, or declare their type. Every variable in Python is an object."
   ]
  },
  {
   "cell_type": "markdown",
   "id": "e35cd32b",
   "metadata": {},
   "source": [
    "### Numbers\n",
    "\n",
    "Python supports two types of numbers:\n",
    "1) __Integers__ : whole numbers\n",
    "\n",
    "2) __Floating points__ : decimals \n",
    "\n",
    "(It also supports complex numbers, which will not be explained in this tutorial)."
   ]
  },
  {
   "cell_type": "markdown",
   "id": "972eae2e",
   "metadata": {},
   "source": [
    "To define an integer, use the following syntax:"
   ]
  },
  {
   "cell_type": "code",
   "execution_count": 5,
   "id": "c7623832",
   "metadata": {},
   "outputs": [
    {
     "name": "stdout",
     "output_type": "stream",
     "text": [
      "7\n"
     ]
    },
    {
     "data": {
      "text/plain": [
       "int"
      ]
     },
     "execution_count": 5,
     "metadata": {},
     "output_type": "execute_result"
    }
   ],
   "source": [
    "my_int = 7\n",
    "print(my_int)\n",
    "type(my_int)"
   ]
  },
  {
   "cell_type": "markdown",
   "id": "fea2a671",
   "metadata": {},
   "source": [
    "To define a floating point number, you may use one of the following notations:"
   ]
  },
  {
   "cell_type": "code",
   "execution_count": 9,
   "id": "5632e57d",
   "metadata": {},
   "outputs": [
    {
     "name": "stdout",
     "output_type": "stream",
     "text": [
      "7.0\n",
      "7.0\n",
      "<class 'float'>\n",
      "<class 'float'>\n"
     ]
    }
   ],
   "source": [
    "my_float = 7.0\n",
    "print(my_float)\n",
    "# let's try with another method\n",
    "new_my_float = float(7)\n",
    "print(new_my_float)\n",
    "\n",
    "# checking the num type\n",
    "print(type(my_float))\n",
    "print(type(new_my_float))"
   ]
  },
  {
   "cell_type": "markdown",
   "id": "28508ab2",
   "metadata": {},
   "source": [
    "### Strings\n",
    "\n",
    "Strings are defined either with a single quote or a double quotes."
   ]
  },
  {
   "cell_type": "code",
   "execution_count": 10,
   "id": "8363f1fd",
   "metadata": {},
   "outputs": [
    {
     "name": "stdout",
     "output_type": "stream",
     "text": [
      "hello\n",
      "hello\n"
     ]
    },
    {
     "data": {
      "text/plain": [
       "str"
      ]
     },
     "execution_count": 10,
     "metadata": {},
     "output_type": "execute_result"
    }
   ],
   "source": [
    "my_string = 'hello'\n",
    "print(my_string)\n",
    "my_string = \"hello\"\n",
    "print(my_string)\n",
    "\n",
    "type(my_string)"
   ]
  },
  {
   "cell_type": "markdown",
   "id": "58ea0a21",
   "metadata": {},
   "source": [
    "The difference between the two is that using double quotes makes it easy to include apostrophes (whereas these would terminate the string if using single quotes)"
   ]
  },
  {
   "cell_type": "code",
   "execution_count": 11,
   "id": "f562318f",
   "metadata": {},
   "outputs": [
    {
     "name": "stdout",
     "output_type": "stream",
     "text": [
      "Don't worry about apostrophes\n"
     ]
    }
   ],
   "source": [
    "mystring = \"Don't worry about apostrophes\"\n",
    "print(mystring)"
   ]
  },
  {
   "cell_type": "markdown",
   "id": "5f474450",
   "metadata": {},
   "source": [
    "Simple operators can be executed on numbers and strings:"
   ]
  },
  {
   "cell_type": "code",
   "execution_count": 12,
   "id": "38102f95",
   "metadata": {},
   "outputs": [
    {
     "name": "stdout",
     "output_type": "stream",
     "text": [
      "3\n"
     ]
    }
   ],
   "source": [
    "# with numbers\n",
    "one = 1\n",
    "two = 2\n",
    "three = one + two\n",
    "print(three)"
   ]
  },
  {
   "cell_type": "code",
   "execution_count": 13,
   "id": "ac9ad4fc",
   "metadata": {},
   "outputs": [
    {
     "name": "stdout",
     "output_type": "stream",
     "text": [
      "hello world\n"
     ]
    }
   ],
   "source": [
    "# with strings\n",
    "hello = \"hello\"\n",
    "world = \"world\"\n",
    "helloworld = hello + \" \" + world\n",
    "print(helloworld)"
   ]
  },
  {
   "cell_type": "markdown",
   "id": "c83ff9f3",
   "metadata": {},
   "source": [
    "Assignments can be done on more than one variable \"simultaneously\" on the same line like this:"
   ]
  },
  {
   "cell_type": "code",
   "execution_count": 14,
   "id": "470f1e21",
   "metadata": {},
   "outputs": [
    {
     "name": "stdout",
     "output_type": "stream",
     "text": [
      "3 4\n"
     ]
    }
   ],
   "source": [
    "a, b = 3, 4\n",
    "print(a, b)"
   ]
  },
  {
   "cell_type": "markdown",
   "id": "3318fbd0",
   "metadata": {},
   "source": [
    "Mixing operators between numbers and strings is not supported:\n",
    "\n"
   ]
  },
  {
   "cell_type": "code",
   "execution_count": 15,
   "id": "f8babd17",
   "metadata": {},
   "outputs": [
    {
     "ename": "TypeError",
     "evalue": "unsupported operand type(s) for +: 'int' and 'str'",
     "output_type": "error",
     "traceback": [
      "\u001b[1;31m---------------------------------------------------------------------------\u001b[0m",
      "\u001b[1;31mTypeError\u001b[0m                                 Traceback (most recent call last)",
      "\u001b[1;32m<ipython-input-15-fa035bb013ee>\u001b[0m in \u001b[0;36m<module>\u001b[1;34m\u001b[0m\n\u001b[0;32m      4\u001b[0m \u001b[0mhello\u001b[0m \u001b[1;33m=\u001b[0m \u001b[1;34m\"hello\"\u001b[0m\u001b[1;33m\u001b[0m\u001b[1;33m\u001b[0m\u001b[0m\n\u001b[0;32m      5\u001b[0m \u001b[1;33m\u001b[0m\u001b[0m\n\u001b[1;32m----> 6\u001b[1;33m \u001b[0mprint\u001b[0m\u001b[1;33m(\u001b[0m\u001b[0mone\u001b[0m \u001b[1;33m+\u001b[0m \u001b[0mtwo\u001b[0m \u001b[1;33m+\u001b[0m \u001b[0mhello\u001b[0m\u001b[1;33m)\u001b[0m\u001b[1;33m\u001b[0m\u001b[1;33m\u001b[0m\u001b[0m\n\u001b[0m",
      "\u001b[1;31mTypeError\u001b[0m: unsupported operand type(s) for +: 'int' and 'str'"
     ]
    }
   ],
   "source": [
    "# This will not work!\n",
    "one = 1\n",
    "two = 2\n",
    "hello = \"hello\"\n",
    "\n",
    "print(one + two + hello)"
   ]
  },
  {
   "cell_type": "markdown",
   "id": "af2429c2",
   "metadata": {},
   "source": [
    "But I can still print string and numbers together in this way:"
   ]
  },
  {
   "cell_type": "code",
   "execution_count": 17,
   "id": "b7e13a63",
   "metadata": {},
   "outputs": [
    {
     "name": "stdout",
     "output_type": "stream",
     "text": [
      "This is my val: 5\n"
     ]
    }
   ],
   "source": [
    "my_val = 5\n",
    "\n",
    "my_string = 'This is my val: '\n",
    "\n",
    "print(my_string + str(my_val))"
   ]
  },
  {
   "cell_type": "markdown",
   "id": "f6490ee7",
   "metadata": {},
   "source": [
    "### Exercise\n",
    "The target of this exercise is to create a __string, an integer, and a floating point number__. The string should be named mystring and should contain the word \"hello\". The floating point number should be named myfloat and should contain the number 10.0, and the integer should be named myint and should contain the number 20."
   ]
  },
  {
   "cell_type": "code",
   "execution_count": null,
   "id": "4d5278a6",
   "metadata": {},
   "outputs": [],
   "source": [
    "# change this code\n",
    "mystring = None\n",
    "myfloat = None\n",
    "myint = None\n",
    "\n",
    "# testing code\n",
    "if mystring == \"hello\":\n",
    "    print(\"String: %s\" % mystring)\n",
    "if isinstance(myfloat, float) and myfloat == 10.0:\n",
    "    print(\"Float: %f\" % myfloat)\n",
    "if isinstance(myint, int) and myint == 20:\n",
    "    print(\"Integer: %d\" % myint)"
   ]
  },
  {
   "cell_type": "markdown",
   "id": "0b4d27a8",
   "metadata": {},
   "source": [
    "## List"
   ]
  },
  {
   "cell_type": "markdown",
   "id": "ca68a5ee",
   "metadata": {},
   "source": [
    "Lists are very similar to arrays. They can contain any type of variable, and they can contain as many variables as you wish. Lists can also be iterated over in a very simple manner. Here is an example of how to build a list."
   ]
  },
  {
   "cell_type": "code",
   "execution_count": 19,
   "id": "5e3a3a12",
   "metadata": {},
   "outputs": [
    {
     "name": "stdout",
     "output_type": "stream",
     "text": [
      "[10, 20, 30, 40, 50]\n"
     ]
    }
   ],
   "source": [
    "simplest_list = [10,20,30,40,50]\n",
    "print(simplest_list)"
   ]
  },
  {
   "cell_type": "code",
   "execution_count": 20,
   "id": "0faf41ee",
   "metadata": {},
   "outputs": [
    {
     "name": "stdout",
     "output_type": "stream",
     "text": [
      "[]\n",
      "[1]\n",
      "[1, 2]\n",
      "[1, 2, 3]\n"
     ]
    }
   ],
   "source": [
    "# add elements to a list\n",
    "mylist = []\n",
    "print(mylist)\n",
    "mylist.append(1)\n",
    "print(mylist)\n",
    "mylist.append(2)\n",
    "print(mylist)\n",
    "mylist.append(3)\n",
    "\n",
    "print(mylist)"
   ]
  },
  {
   "cell_type": "code",
   "execution_count": 21,
   "id": "b6a4527a",
   "metadata": {},
   "outputs": [
    {
     "name": "stdout",
     "output_type": "stream",
     "text": [
      "1\n"
     ]
    }
   ],
   "source": [
    "# print a specific value of a list\n",
    "\n",
    "# N.B.: before running this cell, TRY TO GUESS THE OUTPUT\n",
    "print(mylist[0])"
   ]
  },
  {
   "cell_type": "code",
   "execution_count": 22,
   "id": "13a6f01a",
   "metadata": {},
   "outputs": [
    {
     "name": "stdout",
     "output_type": "stream",
     "text": [
      "1\n",
      "2\n",
      "3\n"
     ]
    }
   ],
   "source": [
    "# prints out each value separately\n",
    "for x in mylist:\n",
    "    print(x)"
   ]
  },
  {
   "cell_type": "markdown",
   "id": "9327b00b",
   "metadata": {},
   "source": [
    "Accessing an index which does not exist generates an exception (an error)."
   ]
  },
  {
   "cell_type": "code",
   "execution_count": 23,
   "id": "d170482c",
   "metadata": {},
   "outputs": [
    {
     "ename": "IndexError",
     "evalue": "list index out of range",
     "output_type": "error",
     "traceback": [
      "\u001b[1;31m---------------------------------------------------------------------------\u001b[0m",
      "\u001b[1;31mIndexError\u001b[0m                                Traceback (most recent call last)",
      "\u001b[1;32m<ipython-input-23-ac9eeac6db06>\u001b[0m in \u001b[0;36m<module>\u001b[1;34m\u001b[0m\n\u001b[0;32m      1\u001b[0m \u001b[0mmylist\u001b[0m \u001b[1;33m=\u001b[0m \u001b[1;33m[\u001b[0m\u001b[1;36m1\u001b[0m\u001b[1;33m,\u001b[0m\u001b[1;36m2\u001b[0m\u001b[1;33m,\u001b[0m\u001b[1;36m3\u001b[0m\u001b[1;33m]\u001b[0m\u001b[1;33m\u001b[0m\u001b[1;33m\u001b[0m\u001b[0m\n\u001b[1;32m----> 2\u001b[1;33m \u001b[0mprint\u001b[0m\u001b[1;33m(\u001b[0m\u001b[0mmylist\u001b[0m\u001b[1;33m[\u001b[0m\u001b[1;36m10\u001b[0m\u001b[1;33m]\u001b[0m\u001b[1;33m)\u001b[0m\u001b[1;33m\u001b[0m\u001b[1;33m\u001b[0m\u001b[0m\n\u001b[0m",
      "\u001b[1;31mIndexError\u001b[0m: list index out of range"
     ]
    }
   ],
   "source": [
    "mylist = [1,2,3]\n",
    "print(mylist[10])"
   ]
  },
  {
   "cell_type": "markdown",
   "id": "bf245e5e",
   "metadata": {},
   "source": [
    "__REMEMBER: PYTHON STARTS COUNTING FROM ZERO!!!!__"
   ]
  },
  {
   "cell_type": "markdown",
   "id": "ad7240b8",
   "metadata": {},
   "source": [
    "### Exercise\n",
    "\n",
    "In this exercise, you will need to add numbers and strings to the correct lists using the \"append\" list method. You must add the numbers 1,2, and 3 to the \"numbers\" list, and the words 'hello' and 'world' to the strings variable.\n",
    "\n",
    "You will also have to fill in the variable second_name with the second name in the names list, using the brackets operator []. Note that the index is zero-based, so if you want to access the second item in the list, its index will be 1."
   ]
  },
  {
   "cell_type": "code",
   "execution_count": 24,
   "id": "5ed02376",
   "metadata": {},
   "outputs": [
    {
     "name": "stdout",
     "output_type": "stream",
     "text": [
      "[]\n",
      "[]\n",
      "The second name on the names list is None\n"
     ]
    }
   ],
   "source": [
    "numbers = []\n",
    "strings = []\n",
    "names = [\"John\", \"Eric\", \"Jessica\"]\n",
    "\n",
    "# write your code here\n",
    "second_name = None\n",
    "\n",
    "\n",
    "# this code should write out the filled arrays and the second name in the names list (Eric).\n",
    "print(numbers)\n",
    "print(strings)\n",
    "print(\"The second name on the names list is %s\" % second_name)"
   ]
  },
  {
   "cell_type": "markdown",
   "id": "31d91650",
   "metadata": {},
   "source": [
    "## Basic Operators"
   ]
  },
  {
   "cell_type": "markdown",
   "id": "9d05464b",
   "metadata": {},
   "source": [
    "This section explains how to use basic operators in Python.\n",
    "\n",
    "### Arithmetic Operators\n",
    "Just as any other programming languages, the addition, subtraction, multiplication, and division operators can be used with numbers."
   ]
  },
  {
   "cell_type": "code",
   "execution_count": 25,
   "id": "f2339fa9",
   "metadata": {},
   "outputs": [
    {
     "name": "stdout",
     "output_type": "stream",
     "text": [
      "2.5\n"
     ]
    }
   ],
   "source": [
    "number = 1 + 2 * 3 / 4.0\n",
    "print(number)"
   ]
  },
  {
   "cell_type": "markdown",
   "id": "965e37ab",
   "metadata": {},
   "source": [
    "Another operator available is the modulo (%) operator, which returns the integer remainder of the division. dividend % divisor = remainder."
   ]
  },
  {
   "cell_type": "code",
   "execution_count": 26,
   "id": "0127757a",
   "metadata": {},
   "outputs": [
    {
     "name": "stdout",
     "output_type": "stream",
     "text": [
      "2\n"
     ]
    }
   ],
   "source": [
    "remainder = 11 % 3\n",
    "print(remainder)"
   ]
  },
  {
   "cell_type": "markdown",
   "id": "0a894274",
   "metadata": {},
   "source": [
    "This can be easily used to check if a number is even or odd"
   ]
  },
  {
   "cell_type": "code",
   "execution_count": 29,
   "id": "e5f35f1f",
   "metadata": {},
   "outputs": [
    {
     "data": {
      "text/plain": [
       "True"
      ]
     },
     "execution_count": 29,
     "metadata": {},
     "output_type": "execute_result"
    }
   ],
   "source": [
    "number = 4\n",
    "# checking if the remainder is equal to zero\n",
    "number%2 == 0"
   ]
  },
  {
   "cell_type": "markdown",
   "id": "409d2025",
   "metadata": {},
   "source": [
    "\n"
   ]
  },
  {
   "cell_type": "markdown",
   "id": "32d839dd",
   "metadata": {},
   "source": [
    "Using two multiplication symbols makes a power relationship"
   ]
  },
  {
   "cell_type": "code",
   "execution_count": 30,
   "id": "20fee8f7",
   "metadata": {},
   "outputs": [
    {
     "name": "stdout",
     "output_type": "stream",
     "text": [
      "49\n",
      "8\n"
     ]
    }
   ],
   "source": [
    "squared = 7 ** 2\n",
    "cubed = 2 ** 3\n",
    "print(squared)\n",
    "print(cubed)"
   ]
  },
  {
   "cell_type": "markdown",
   "id": "29f7c13f",
   "metadata": {},
   "source": [
    "### Using Operators with Strings\n",
    "Python supports concatenating strings using the addition operator:\n",
    "\n"
   ]
  },
  {
   "cell_type": "code",
   "execution_count": 31,
   "id": "ff332fb0",
   "metadata": {},
   "outputs": [
    {
     "name": "stdout",
     "output_type": "stream",
     "text": [
      "hello world\n"
     ]
    }
   ],
   "source": [
    "helloworld = \"hello\" + \" \" + \"world\"\n",
    "print(helloworld)"
   ]
  },
  {
   "cell_type": "markdown",
   "id": "f9151f23",
   "metadata": {},
   "source": [
    "Python also supports multiplying strings to form a string with a repeating sequence:"
   ]
  },
  {
   "cell_type": "code",
   "execution_count": 33,
   "id": "4211d0f0",
   "metadata": {},
   "outputs": [
    {
     "name": "stdout",
     "output_type": "stream",
     "text": [
      "hellohellohellohellohellohellohellohellohellohello\n"
     ]
    }
   ],
   "source": [
    "lotsofhellos = \"hello\" * 10\n",
    "# Guess the output\n",
    "print(lotsofhellos)"
   ]
  },
  {
   "cell_type": "markdown",
   "id": "82d54402",
   "metadata": {},
   "source": [
    "### Using Operators with Lists\n",
    "Lists can be joined with the addition operators:"
   ]
  },
  {
   "cell_type": "code",
   "execution_count": 34,
   "id": "cb8194b8",
   "metadata": {},
   "outputs": [
    {
     "name": "stdout",
     "output_type": "stream",
     "text": [
      "[1, 3, 5, 7, 2, 4, 6, 8]\n"
     ]
    }
   ],
   "source": [
    "even_numbers = [2,4,6,8]\n",
    "odd_numbers = [1,3,5,7]\n",
    "all_numbers = odd_numbers + even_numbers\n",
    "print(all_numbers)"
   ]
  },
  {
   "cell_type": "markdown",
   "id": "5c5a72e2",
   "metadata": {},
   "source": [
    "Just as in strings, Python supports forming new lists with a repeating sequence using the multiplication operator:"
   ]
  },
  {
   "cell_type": "code",
   "execution_count": 35,
   "id": "02148ff2",
   "metadata": {},
   "outputs": [
    {
     "name": "stdout",
     "output_type": "stream",
     "text": [
      "[1, 2, 3, 1, 2, 3, 1, 2, 3]\n"
     ]
    }
   ],
   "source": [
    "print([1,2,3] * 3)"
   ]
  },
  {
   "cell_type": "markdown",
   "id": "ebed9ac1",
   "metadata": {},
   "source": [
    "### Exercise\n",
    "The target of this exercise is to create two lists called x_list and y_list, which contain 10 instances of the variables x and y, respectively. You are also required to create a list called big_list, which contains the variables x and y, 10 times each, by concatenating the two lists you have created."
   ]
  },
  {
   "cell_type": "code",
   "execution_count": null,
   "id": "26189094",
   "metadata": {},
   "outputs": [],
   "source": [
    "x = object()\n",
    "y = object()\n",
    "\n",
    "# TODO: change this code\n",
    "x_list = [x]\n",
    "y_list = [y]\n",
    "big_list = []\n",
    "\n",
    "print(\"x_list contains %d objects\" % len(x_list))\n",
    "print(\"y_list contains %d objects\" % len(y_list))\n",
    "print(\"big_list contains %d objects\" % len(big_list))\n",
    "\n",
    "# testing code\n",
    "if x_list.count(x) == 10 and y_list.count(y) == 10:\n",
    "    print(\"Almost there...\")\n",
    "if big_list.count(x) == 10 and big_list.count(y) == 10:\n",
    "    print(\"Great!\")"
   ]
  },
  {
   "cell_type": "markdown",
   "id": "7fefe28b",
   "metadata": {},
   "source": [
    "## Conditions\n",
    "Python uses boolean logic to evaluate conditions. The boolean values True and False are returned when an expression is compared or evaluated. For example:"
   ]
  },
  {
   "cell_type": "code",
   "execution_count": 36,
   "id": "a3908a12",
   "metadata": {},
   "outputs": [
    {
     "name": "stdout",
     "output_type": "stream",
     "text": [
      "True\n",
      "False\n",
      "True\n"
     ]
    }
   ],
   "source": [
    "x = 2\n",
    "print(x == 2) # prints out True\n",
    "print(x == 3) # prints out False\n",
    "print(x < 3) # prints out True"
   ]
  },
  {
   "cell_type": "markdown",
   "id": "e7ce58d7",
   "metadata": {},
   "source": [
    "#### Boolean operators\n",
    "The \"and\" and \"or\" boolean operators allow building complex boolean expressions, for example:"
   ]
  },
  {
   "cell_type": "code",
   "execution_count": 37,
   "id": "8ace4ab9",
   "metadata": {},
   "outputs": [
    {
     "name": "stdout",
     "output_type": "stream",
     "text": [
      "Your name is John, and you are also 23 years old.\n",
      "Your name is either John or Rick.\n"
     ]
    }
   ],
   "source": [
    "name = \"John\"\n",
    "age = 23\n",
    "if name == \"John\" and age == 23:\n",
    "    print(\"Your name is John, and you are also 23 years old.\")\n",
    "\n",
    "if name == \"John\" or name == \"Rick\":\n",
    "    print(\"Your name is either John or Rick.\")"
   ]
  },
  {
   "cell_type": "markdown",
   "id": "4c219127",
   "metadata": {},
   "source": [
    "#### The \"in\" operator\n",
    "The \"in\" operator could be used to check if a specified object exists within an iterable object container, such as a list:"
   ]
  },
  {
   "cell_type": "code",
   "execution_count": 38,
   "id": "b5a73b72",
   "metadata": {},
   "outputs": [
    {
     "name": "stdout",
     "output_type": "stream",
     "text": [
      "Your name is either John or Rick.\n"
     ]
    }
   ],
   "source": [
    "name = \"John\"\n",
    "if name in [\"John\", \"Rick\"]:\n",
    "    print(\"Your name is either John or Rick.\")"
   ]
  },
  {
   "cell_type": "code",
   "execution_count": 39,
   "id": "3197f054",
   "metadata": {},
   "outputs": [
    {
     "name": "stdout",
     "output_type": "stream",
     "text": [
      "x equals two!\n"
     ]
    }
   ],
   "source": [
    "x = 2\n",
    "if x == 2:\n",
    "    print(\"x equals two!\")\n",
    "else:\n",
    "    print(\"x does not equal to two.\")"
   ]
  },
  {
   "cell_type": "code",
   "execution_count": null,
   "id": "7d363535",
   "metadata": {},
   "outputs": [],
   "source": []
  }
 ],
 "metadata": {
  "kernelspec": {
   "display_name": "Python 3",
   "language": "python",
   "name": "python3"
  },
  "language_info": {
   "codemirror_mode": {
    "name": "ipython",
    "version": 3
   },
   "file_extension": ".py",
   "mimetype": "text/x-python",
   "name": "python",
   "nbconvert_exporter": "python",
   "pygments_lexer": "ipython3",
   "version": "3.8.8"
  }
 },
 "nbformat": 4,
 "nbformat_minor": 5
}
