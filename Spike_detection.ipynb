{
 "cells": [
  {
   "cell_type": "markdown",
   "metadata": {},
   "source": [
    "# Tutorial: ephys data analysis in Python"
   ]
  },
  {
   "cell_type": "markdown",
   "metadata": {},
   "source": [
    "Here we showcase the analysis of electrophysiological data. The data were acquired from extracellular recordings at 20 kHz in the olfactory glomeruli of a cockroach presented with different odorants."
   ]
  },
  {
   "cell_type": "markdown",
   "metadata": {},
   "source": [
    "## Load and plot the data"
   ]
  },
  {
   "cell_type": "markdown",
   "metadata": {},
   "source": [
    "First we load the first example data:"
   ]
  },
  {
   "cell_type": "code",
   "execution_count": 4,
   "metadata": {},
   "outputs": [],
   "source": [
    "import numpy as np\n",
    "import deepdish as dd\n",
    "\n",
    "import dis"
   ]
  },
  {
   "cell_type": "code",
   "execution_count": 5,
   "metadata": {},
   "outputs": [],
   "source": [
    "trace = dd.io.load(\"snip_trace_cockroach1.hdf5\")"
   ]
  },
  {
   "cell_type": "code",
   "execution_count": 6,
   "metadata": {},
   "outputs": [
    {
     "name": "stdout",
     "output_type": "stream",
     "text": [
      "(1200000, 1)\n"
     ]
    }
   ],
   "source": [
    "print (trace.shape)"
   ]
  },
  {
   "cell_type": "markdown",
   "metadata": {},
   "source": [
    "#### Exercise 0 opening the data\n",
    "\n",
    "a. Knowing that the sample rate is 20 kHz, print how much does this trace last in seconds;\n",
    "\n",
    "b. Define a new array containing only the first 10 seconds of the trace;"
   ]
  },
  {
   "cell_type": "code",
   "execution_count": 7,
   "metadata": {},
   "outputs": [],
   "source": [
    "# A)\n",
    "# trace duration extraction\n",
    "frequency = 20000\n",
    "trace_duration = \n",
    "\n",
    "# print trace last in seconds\n",
    "print ('My trace duration is ' + str(trace_duration) + 's')\n",
    "\n",
    "\n",
    "# B)\n",
    "# computing the time stamps corresponding to the first 10s at 20 kHz\n",
    "\n",
    "\n",
    "#extracting the first 10s of the trace\n",
    "\n",
    "# Control: do the new trace last 10 s?\n",
    "\n",
    "#print control - trace duration\n",
    "\n"
   ]
  },
  {
   "cell_type": "markdown",
   "metadata": {},
   "source": [
    "#### Exercise 1: plotting\n",
    "\n",
    "a. Use matplotlib to plot the trace, with appropriate axis labels;\n",
    "\n",
    "b. Now plot the data array over a suitable time array, ensuring x is in seconds;\n",
    "\n",
    "c. Use axhline to place on the plot a threshold that would allow to distinguish spike events."
   ]
  },
  {
   "cell_type": "code",
   "execution_count": 8,
   "metadata": {},
   "outputs": [],
   "source": [
    "%matplotlib notebook\n",
    "from matplotlib import pyplot as plt"
   ]
  },
  {
   "cell_type": "code",
   "execution_count": 9,
   "metadata": {},
   "outputs": [],
   "source": [
    "# tip: use subplot for every sub-excercise\n",
    "\n",
    "# A)\n",
    "#plotting the trace\n",
    "\n",
    "\n",
    "\n",
    "\n",
    "# B)\n",
    "#plotting the trace with time in seconds\n",
    "\n",
    "\n",
    "\n",
    "# C)\n",
    "#plotting the trace with time in seconds AND spike detection threshold\n",
    "# computing avg and standard deviation\n",
    "\n",
    "# defining the threshold\n",
    "\n",
    "#plotting\n"
   ]
  },
  {
   "cell_type": "markdown",
   "metadata": {},
   "source": [
    "## Spike detection"
   ]
  },
  {
   "cell_type": "markdown",
   "metadata": {},
   "source": [
    "The first step to analyse electrophysiological data is detect the time of spike events. A very simple way of doing so is simply to check every time the trace cross a threshold, and store the indexes at which such events occour."
   ]
  },
  {
   "cell_type": "markdown",
   "metadata": {},
   "source": [
    "#### Exercise 2: find the spikes!"
   ]
  },
  {
   "cell_type": "markdown",
   "metadata": {},
   "source": [
    "**Exercise 2: find the spikes!**\n",
    "\n",
    " - a. Use a loop to find the index of all points where the trace is below the threshold you found when doing the plot;\n",
    " - b. Use numpy array to do the same operation (tip: check the argwhere function out). \n",
    " - c. Then, try to run each method in the cell with the %%timeit header. This will show you the time required to execute your code. Which sintax is faster?"
   ]
  },
  {
   "cell_type": "code",
   "execution_count": 10,
   "metadata": {},
   "outputs": [],
   "source": [
    "#A)\n",
    "# finding indeces of the point which pass the threshold\n",
    "\n",
    "#B)\n",
    "# finding indeces of the point which pass the threshold with numpy function\n",
    "\n",
    "#C)\n",
    "# timeit!"
   ]
  },
  {
   "cell_type": "markdown",
   "metadata": {},
   "source": [
    "**Exercise 3: refining spike extraction**\n",
    " - a. If you just take all points below a threshold, sometimes you will end up with consecutive points belonging to the same spike. Find a way to get rid of such points with a for loop;\n",
    " - b. Then, try to do the same with numpy (tip: the diff function might help...). Which one is faster?\n",
    " - c. Convert spike indexes in spike times;\n",
    " - d. Define a function that takes the array, the threshold, and the sampling frequency as the input and give spike times as the output"
   ]
  },
  {
   "cell_type": "code",
   "execution_count": null,
   "metadata": {},
   "outputs": [],
   "source": []
  }
 ],
 "metadata": {
  "kernelspec": {
   "display_name": "Python 3",
   "language": "python",
   "name": "python3"
  },
  "language_info": {
   "codemirror_mode": {
    "name": "ipython",
    "version": 3
   },
   "file_extension": ".py",
   "mimetype": "text/x-python",
   "name": "python",
   "nbconvert_exporter": "python",
   "pygments_lexer": "ipython3",
   "version": "3.8.3"
  }
 },
 "nbformat": 4,
 "nbformat_minor": 5
}
